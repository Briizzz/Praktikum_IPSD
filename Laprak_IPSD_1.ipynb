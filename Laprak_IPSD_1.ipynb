{
  "cells": [
    {
      "cell_type": "markdown",
      "metadata": {
        "id": "view-in-github",
        "colab_type": "text"
      },
      "source": [
        "<a href=\"https://colab.research.google.com/github/Briizzz/Praktikum_IPSD/blob/main/Laprak_IPSD_1.ipynb\" target=\"_parent\"><img src=\"https://colab.research.google.com/assets/colab-badge.svg\" alt=\"Open In Colab\"/></a>"
      ]
    },
    {
      "cell_type": "markdown",
      "source": [
        "**SOAL NO 1**"
      ],
      "metadata": {
        "id": "uIs9YlGc7u3I"
      }
    },
    {
      "cell_type": "code",
      "execution_count": null,
      "metadata": {
        "colab": {
          "base_uri": "https://localhost:8080/"
        },
        "id": "RIjcij72ixKy",
        "outputId": "f94ff55a-2407-4a9d-de42-be01ca5ad72a"
      },
      "outputs": [
        {
          "output_type": "stream",
          "name": "stdout",
          "text": [
            "8 8\n",
            "8 8 16\n",
            "8 8 16 32\n"
          ]
        }
      ],
      "source": [
        "def is_prime(num):\n",
        "  \"\"\"Mengecek apakah suatu bilangan adalah bilangan prima\"\"\"\n",
        "  if num <= 1:\n",
        "    return False\n",
        "  for i in range(2, int(num**0.5) + 1):\n",
        "    if num % i == 0:\n",
        "      return False\n",
        "  return True\n",
        "\n",
        "def generate_pattern(rows):\n",
        "  \"\"\"Generate pola bilangan prima\"\"\"\n",
        "  primes = [8]\n",
        "  for _ in range(rows - 1):\n",
        "    new_prime = sum(primes)\n",
        "    primes.append(new_prime)\n",
        "    print(*primes)\n",
        "\n",
        "# Contoh penggunaan\n",
        "rows = 4\n",
        "generate_pattern(rows)"
      ]
    },
    {
      "cell_type": "markdown",
      "source": [
        "**SOAL 2**"
      ],
      "metadata": {
        "id": "4SjF57j97y-p"
      }
    },
    {
      "cell_type": "code",
      "source": [
        "def fungsi_urut(list1, list2):\n",
        "  hasil = list1[1::2] + list2[1::2]\n",
        "\n",
        "  return sorted(hasil, reverse=True)\n",
        "\n",
        "list1 = [3, 10, 4, 9, 8, 5]\n",
        "list2 = [3, 4, 6, 7, 1, 2]\n",
        "\n",
        "print(fungsi_urut(list1, list2))"
      ],
      "metadata": {
        "colab": {
          "base_uri": "https://localhost:8080/"
        },
        "id": "yqpn0kyX33am",
        "outputId": "8e624662-970f-48a8-953d-dd8acb6649b0"
      },
      "execution_count": null,
      "outputs": [
        {
          "output_type": "stream",
          "name": "stdout",
          "text": [
            "[10, 9, 7, 5, 4, 2]\n"
          ]
        }
      ]
    },
    {
      "cell_type": "markdown",
      "source": [
        "**SOAL 3**"
      ],
      "metadata": {
        "id": "IIGqQw6v71eE"
      }
    },
    {
      "cell_type": "code",
      "source": [
        "def Simulasi_ATM():\n",
        "  pin_benar = \"103020\"\n",
        "  saldo = 9999999999\n",
        "\n",
        "  for i in range(3):\n",
        "    pin = input(\"Masukkan PIN Anda: \")\n",
        "    if pin == pin_benar:\n",
        "      break\n",
        "    else:\n",
        "      print(\"PIN salah. Silahkan coba lagi.\")\n",
        "  else:\n",
        "      print(\"Anda telah melebihi batas percobaan. Silahkan coba lain waktu.\")\n",
        "      return\n",
        "\n",
        "  while True:\n",
        "      Tarik_Tunai = int(input(\"Silahkan masukkan jumlah uang yang ingin di tarik\"))\n",
        "      if Tarik_Tunai > saldo:\n",
        "        print(\"Saldo anda tidak mencukupi\")\n",
        "      else:\n",
        "        saldo -= Tarik_Tunai\n",
        "        print(f\"Penarikan berhasil. Sisa saldo: Rp{saldo}\")\n",
        "        break\n",
        "\n",
        "Simulasi_ATM()"
      ],
      "metadata": {
        "colab": {
          "base_uri": "https://localhost:8080/"
        },
        "id": "rtIDoYQR75JC",
        "outputId": "2aec278b-5910-4d07-c551-5077e7cba91c"
      },
      "execution_count": null,
      "outputs": [
        {
          "output_type": "stream",
          "name": "stdout",
          "text": [
            "Masukkan PIN Anda: 103020\n",
            "Silahkan masukkan jumlah uang yang ingin di tarik5000\n",
            "Penarikan berhasil. Sisa saldo: Rp9999994999\n"
          ]
        }
      ]
    },
    {
      "cell_type": "markdown",
      "source": [
        "**SOAL 4**"
      ],
      "metadata": {
        "id": "hQQx3mKQFihr"
      }
    },
    {
      "cell_type": "code",
      "source": [
        "import csv\n",
        "\n",
        "# File path\n",
        "file_path = '/content/siswa_nilai (1).csv'\n",
        "\n",
        "with open(file_path, mode='r') as file:\n",
        "    reader = csv.reader(file)\n",
        "    data = list(reader)\n",
        "\n",
        "data[:5]\n",
        "\n",
        "students_scores = {}\n",
        "for row in data[1:]:\n",
        "    name = row[0]\n",
        "    score = int(row[1])\n",
        "    students_scores[name] = score\n",
        "\n",
        "\n",
        "average_score = sum(students_scores.values()) / len(students_scores)\n",
        "\n",
        "highest_score_student = max(students_scores, key=students_scores.get)\n",
        "lowest_score_student = min(students_scores, key=students_scores.get)\n",
        "\n",
        "\n",
        "{\n",
        "    \"average_score\": average_score,\n",
        "    \"highest_score_student\": (highest_score_student, students_scores[highest_score_student]),\n",
        "    \"lowest_score_student\": (lowest_score_student, students_scores[lowest_score_student]),\n",
        "}\n"
      ],
      "metadata": {
        "id": "tlTvztfXeL0x",
        "colab": {
          "base_uri": "https://localhost:8080/"
        },
        "outputId": "eded4d83-23e7-4eb9-dd33-9d90b18c5d84"
      },
      "execution_count": 10,
      "outputs": [
        {
          "output_type": "execute_result",
          "data": {
            "text/plain": [
              "{'average_score': 72.0,\n",
              " 'highest_score_student': ('Siswa_7', 100),\n",
              " 'lowest_score_student': ('Siswa_5', 50)}"
            ]
          },
          "metadata": {},
          "execution_count": 10
        }
      ]
    },
    {
      "cell_type": "markdown",
      "source": [
        "**SOAL 5**"
      ],
      "metadata": {
        "id": "_UrXDNyTfqyc"
      }
    },
    {
      "cell_type": "code",
      "source": [
        "import random\n",
        "\n",
        "def tebak_angka():\n",
        "    angka_rahasia = random.randint(1, 100)\n",
        "    percobaan = 5\n",
        "\n",
        "    print(\"Selamat datang di permainan Tebak Angka!\")\n",
        "    print(\"Tebak angka antara 1 sampai 100 dalam 5 percobaan.\")\n",
        "\n",
        "    while percobaan > 0:\n",
        "        tebakan = int(input(\"Masukkan tebakanmu: \"))\n",
        "\n",
        "        if tebakan == angka_rahasia:\n",
        "            print(\"Selamat, tebakanmu benar!\")\n",
        "            return\n",
        "\n",
        "        elif tebakan < angka_rahasia:\n",
        "            print(\"Angka terlalu kecil.\")\n",
        "        else:\n",
        "            print(\"Angka terlalu besar.\")\n",
        "\n",
        "        percobaan -= 1\n",
        "        print(f\"Sisa percobaan: {percobaan}\")\n",
        "\n",
        "    print(f\"Sayang sekali, kamu kehabisan percobaan. Angka rahasianya adalah {angka_rahasia}.\")\n",
        "\n",
        "# Mulai permainan\n",
        "tebak_angka()"
      ],
      "metadata": {
        "colab": {
          "base_uri": "https://localhost:8080/"
        },
        "id": "lKTPfszpfu4P",
        "outputId": "95a2645f-9f09-411f-a3b6-4b86cc9e6eb6"
      },
      "execution_count": null,
      "outputs": [
        {
          "output_type": "stream",
          "name": "stdout",
          "text": [
            "Selamat datang di permainan Tebak Angka!\n",
            "Tebak angka antara 1 sampai 100 dalam 5 percobaan.\n",
            "Masukkan tebakanmu: 57\n",
            "Angka terlalu kecil.\n",
            "Sisa percobaan: 4\n",
            "Masukkan tebakanmu: 75\n",
            "Angka terlalu besar.\n",
            "Sisa percobaan: 3\n",
            "Masukkan tebakanmu: 65\n",
            "Angka terlalu kecil.\n",
            "Sisa percobaan: 2\n",
            "Masukkan tebakanmu: 70\n",
            "Angka terlalu besar.\n",
            "Sisa percobaan: 1\n",
            "Masukkan tebakanmu: 68\n",
            "Angka terlalu besar.\n",
            "Sisa percobaan: 0\n",
            "Sayang sekali, kamu kehabisan percobaan. Angka rahasianya adalah 67.\n"
          ]
        }
      ]
    },
    {
      "cell_type": "markdown",
      "source": [
        "**SOAL 6**"
      ],
      "metadata": {
        "id": "ksuAMOJrjz04"
      }
    },
    {
      "cell_type": "code",
      "source": [
        "def factorial_recursive(n):\n",
        "    if n == 0 or n == 1:\n",
        "        return 1\n",
        "    else:\n",
        "        return n * factorial_recursive(n-1)\n",
        "\n",
        "def generate_sequence(n):\n",
        "    sequence = []\n",
        "    for i in range(1, n+1):\n",
        "        sequence.append(factorial_recursive(i))\n",
        "    return sequence\n",
        "\n",
        "n = 4\n",
        "print(generate_sequence(n))  # Output: [1, 1, 2, 6, 24]"
      ],
      "metadata": {
        "colab": {
          "base_uri": "https://localhost:8080/"
        },
        "id": "jq8as9KJj2qH",
        "outputId": "845cf6e4-1ef5-4b95-d2eb-b683464a1a21"
      },
      "execution_count": null,
      "outputs": [
        {
          "output_type": "stream",
          "name": "stdout",
          "text": [
            "[1, 2, 6, 24]\n"
          ]
        }
      ]
    },
    {
      "cell_type": "markdown",
      "source": [],
      "metadata": {
        "id": "8o0HD0YykMga"
      }
    },
    {
      "cell_type": "markdown",
      "source": [
        "**SOAL 7**"
      ],
      "metadata": {
        "id": "zrLUz3IVkKkO"
      }
    },
    {
      "cell_type": "code",
      "source": [
        "def min_coin_change(amount, coins):\n",
        "    coins.sort(reverse=True)\n",
        "    change = []\n",
        "\n",
        "    for coin in coins:\n",
        "        while amount >= coin:\n",
        "            amount -= coin\n",
        "            change.append(coin)\n",
        "\n",
        "    return change\n",
        "\n",
        "# Example usage:\n",
        "amount = int(input(\"Enter the amount: \"))\n",
        "coins = list(map(int, input(\"Enter the coin values (separated by spaces): \").split()))\n",
        "print(\"Minimum coin change:\", min_coin_change(amount, coins))"
      ],
      "metadata": {
        "colab": {
          "base_uri": "https://localhost:8080/"
        },
        "id": "LX-0qv-5kPHR",
        "outputId": "73965cfd-1ecc-4f51-8b3f-b60d11b96818"
      },
      "execution_count": null,
      "outputs": [
        {
          "output_type": "stream",
          "name": "stdout",
          "text": [
            "Enter the amount: 5\n",
            "Enter the coin values (separated by spaces): 3\n",
            "Minimum coin change: [3]\n"
          ]
        }
      ]
    },
    {
      "cell_type": "markdown",
      "source": [
        "**SOAL 8**"
      ],
      "metadata": {
        "id": "wMcXxtTZkzqI"
      }
    },
    {
      "cell_type": "code",
      "source": [
        "def reverse_words(input_string):\n",
        "    words = input_string.split()\n",
        "    reversed_words = [word[::-1] for word in words]\n",
        "    return reversed_words\n",
        "\n",
        "input_string = input(\"Enter a string: \")\n",
        "print(\"Reversed words:\", reverse_words(input_string))"
      ],
      "metadata": {
        "colab": {
          "base_uri": "https://localhost:8080/"
        },
        "id": "PsuZTPwjk2Ck",
        "outputId": "60405f33-c065-4d55-88eb-48e007a26d7c"
      },
      "execution_count": null,
      "outputs": [
        {
          "output_type": "stream",
          "name": "stdout",
          "text": [
            "Enter a string: omai\n",
            "Reversed words: ['iamo']\n"
          ]
        }
      ]
    },
    {
      "cell_type": "markdown",
      "source": [
        "**SOAL 9**"
      ],
      "metadata": {
        "id": "TWqbNTm9mBs_"
      }
    },
    {
      "cell_type": "code",
      "source": [
        "import datetime\n",
        "\n",
        "class Buku:\n",
        "    def __init__(self, judul, penulis, tahun_terbit):\n",
        "        self.judul = judul\n",
        "        self.penulis = penulis\n",
        "        self.tahun_terbit = tahun_terbit\n",
        "\n",
        "    def info(self):\n",
        "        print(f\"Judul: {self.judul}, Penulis: {self.penulis}, Tahun Terbit: {self.tahun_terbit}\")\n",
        "        print(f\"Usia buku: {datetime.date.today().year - self.tahun_terbit} tahun\")\n",
        "\n",
        "# Create 3 objects from the Buku class\n",
        "buku1 = Buku(\"Python Crash Course\", \"Eric Matthes\", 2016)\n",
        "buku2 = Buku(\"Clean Code\", \"Robert C. Martin\", 2008)\n",
        "buku3 = Buku(\"The Pragmatic Programmer\", \"Andrew Hunt, David Thomas\", 1999)\n",
        "\n",
        "# Display information and age of each book\n",
        "print(\"Buku 1:\")\n",
        "buku1.info()\n",
        "\n",
        "print(\"\\nBuku 2:\")\n",
        "buku2.info()\n",
        "\n",
        "print(\"\\nBuku 3:\")\n",
        "buku3.info()"
      ],
      "metadata": {
        "colab": {
          "base_uri": "https://localhost:8080/"
        },
        "id": "Eg7AE-9Zl2SC",
        "outputId": "b2fabf21-087c-4100-fbdb-ecd5f4656374"
      },
      "execution_count": null,
      "outputs": [
        {
          "output_type": "stream",
          "name": "stdout",
          "text": [
            "Buku 1:\n",
            "Judul: Python Crash Course, Penulis: Eric Matthes, Tahun Terbit: 2016\n",
            "Usia buku: 8 tahun\n",
            "\n",
            "Buku 2:\n",
            "Judul: Clean Code, Penulis: Robert C. Martin, Tahun Terbit: 2008\n",
            "Usia buku: 16 tahun\n",
            "\n",
            "Buku 3:\n",
            "Judul: The Pragmatic Programmer, Penulis: Andrew Hunt, David Thomas, Tahun Terbit: 1999\n",
            "Usia buku: 25 tahun\n"
          ]
        }
      ]
    },
    {
      "cell_type": "markdown",
      "source": [
        "**SOAL 10**"
      ],
      "metadata": {
        "id": "DCrwpXjamEu9"
      }
    },
    {
      "cell_type": "code",
      "source": [
        "def binary_search(arr, target):\n",
        "    low = 0\n",
        "    high = len(arr) - 1\n",
        "\n",
        "    while low <= high:\n",
        "        mid = (low + high) // 2\n",
        "        if arr[mid] == target:\n",
        "            return mid\n",
        "        elif arr[mid] < target:\n",
        "            low = mid + 1\n",
        "        else:\n",
        "            high = mid - 1\n",
        "\n",
        "    if target % 2 != 0:\n",
        "        return \"Nilai tidak bisa ditemukan karena nilai tersebut adalah angka ganjil\"\n",
        "    else:\n",
        "        return \"Nilai tidak ditemukan\"\n",
        "\n",
        "arr = [2, 4, 6, 8, 10, 12, 14, 16, 18, 20]\n",
        "target = 12\n",
        "result = binary_search(arr, target)\n",
        "\n",
        "print(f\"Hasil pencarian: {result}\")\n",
        "\n",
        "target = 11\n",
        "result = binary_search(arr, target)\n",
        "\n",
        "print(f\"Hasil pencarian: {result}\")"
      ],
      "metadata": {
        "colab": {
          "base_uri": "https://localhost:8080/"
        },
        "id": "4ctsk02HmGq5",
        "outputId": "bbd14fa9-242f-4f7a-aa35-e354350df9e9"
      },
      "execution_count": null,
      "outputs": [
        {
          "output_type": "stream",
          "name": "stdout",
          "text": [
            "Hasil pencarian: 5\n",
            "Hasil pencarian: Nilai tidak bisa ditemukan karena nilai tersebut adalah angka ganjil\n"
          ]
        }
      ]
    }
  ],
  "metadata": {
    "colab": {
      "provenance": [],
      "authorship_tag": "ABX9TyPCzkM5yQwYHurWRZrXCwzY",
      "include_colab_link": true
    },
    "kernelspec": {
      "display_name": "Python 3",
      "name": "python3"
    },
    "language_info": {
      "name": "python"
    }
  },
  "nbformat": 4,
  "nbformat_minor": 0
}